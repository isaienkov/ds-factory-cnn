{
 "cells": [
  {
   "cell_type": "markdown",
   "metadata": {},
   "source": [
    "## 1. Convolutional layer"
   ]
  },
  {
   "cell_type": "code",
   "execution_count": 2,
   "metadata": {},
   "outputs": [
    {
     "data": {
      "text/plain": [
       "TensorShape([1, 26, 26, 5])"
      ]
     },
     "execution_count": 2,
     "metadata": {},
     "output_type": "execute_result"
    }
   ],
   "source": [
    "import tensorflow as tf\n",
    "from tensorflow.keras.layers import Conv2D\n",
    "\n",
    "x = tf.random.normal((1, 28, 28, 3))\n",
    "convolution = Conv2D(filters=5, kernel_size=3, strides=(1, 1), padding='valid')\n",
    "\n",
    "convolution_result = convolution(x)\n",
    "convolution_result.shape"
   ]
  },
  {
   "cell_type": "code",
   "execution_count": 3,
   "metadata": {},
   "outputs": [
    {
     "data": {
      "text/plain": [
       "torch.Size([1, 5, 26, 26])"
      ]
     },
     "execution_count": 3,
     "metadata": {},
     "output_type": "execute_result"
    }
   ],
   "source": [
    "import torch\n",
    "from torch.nn import Conv2d\n",
    "\n",
    "x = torch.randn((1, 3, 28, 28))\n",
    "convolution = Conv2d(in_channels=3, out_channels=5, kernel_size=3, stride=1, padding=0)\n",
    "\n",
    "convolution_result = convolution(x)\n",
    "convolution_result.shape"
   ]
  },
  {
   "cell_type": "markdown",
   "metadata": {},
   "source": [
    "## 2. Pooling layer"
   ]
  },
  {
   "cell_type": "code",
   "execution_count": 4,
   "metadata": {},
   "outputs": [
    {
     "data": {
      "text/plain": [
       "(<tf.Tensor: shape=(2, 2), dtype=float32, numpy=\n",
       " array([[ 5.,  8.],\n",
       "        [12., 15.]], dtype=float32)>,\n",
       " <tf.Tensor: shape=(2, 2), dtype=float32, numpy=\n",
       " array([[ 3.  ,  6.25],\n",
       "        [ 9.5 , 13.  ]], dtype=float32)>)"
      ]
     },
     "execution_count": 4,
     "metadata": {},
     "output_type": "execute_result"
    }
   ],
   "source": [
    "import tensorflow as tf\n",
    "from tensorflow.keras.layers import MaxPool2D, AveragePooling2D\n",
    "\n",
    "max_pooling = MaxPool2D(pool_size=(2, 2), strides=(2, 2))\n",
    "avg_pooling = AveragePooling2D(pool_size=(2, 2), strides=(2, 2))\n",
    "\n",
    "x = tf.constant([\n",
    "    [1., 2., 8., 4.],\n",
    "    [4., 5., 6., 7.],\n",
    "    [7., 8., 15., 10.],\n",
    "    [11., 12., 13., 14.]\n",
    "])\n",
    "\n",
    "x = tf.reshape(x, [1, 4, 4, 1])\n",
    "\n",
    "max_pooling_result = tf.reshape(max_pooling(x), [2, 2])\n",
    "avg_pooling_result = tf.reshape(avg_pooling(x), [2, 2])\n",
    "\n",
    "max_pooling_result, avg_pooling_result"
   ]
  },
  {
   "cell_type": "code",
   "execution_count": 5,
   "metadata": {},
   "outputs": [
    {
     "data": {
      "text/plain": [
       "(tensor([[[ 5.,  8.],\n",
       "          [12., 15.]]]),\n",
       " tensor([[[ 3.0000,  6.2500],\n",
       "          [ 9.5000, 13.0000]]]))"
      ]
     },
     "execution_count": 5,
     "metadata": {},
     "output_type": "execute_result"
    }
   ],
   "source": [
    "import torch\n",
    "from torch.nn import MaxPool2d, AvgPool2d\n",
    "\n",
    "max_pooling = MaxPool2d(kernel_size=(2, 2), stride=(2, 2))\n",
    "avg_pooling = AvgPool2d(kernel_size=(2, 2), stride=(2, 2))\n",
    "\n",
    "x = torch.tensor([\n",
    "    [1., 2., 8., 4.],\n",
    "    [4., 5., 6., 7.],\n",
    "    [7., 8., 15., 10.],\n",
    "    [11., 12., 13., 14.]\n",
    "])\n",
    "\n",
    "x = torch.reshape(x, (1, 4, 4))\n",
    "\n",
    "max_pooling_result = max_pooling(x)\n",
    "avg_pooling_result = avg_pooling(x)\n",
    "\n",
    "max_pooling_result, avg_pooling_result"
   ]
  },
  {
   "cell_type": "markdown",
   "metadata": {},
   "source": [
    "## 3. Fully Сonnected layer"
   ]
  },
  {
   "cell_type": "code",
   "execution_count": 6,
   "metadata": {},
   "outputs": [
    {
     "data": {
      "text/plain": [
       "(TensorShape([1, 392]), TensorShape([1, 8]))"
      ]
     },
     "execution_count": 6,
     "metadata": {},
     "output_type": "execute_result"
    }
   ],
   "source": [
    "import tensorflow as tf\n",
    "from tensorflow.keras.layers import Conv2D, Flatten, GlobalAveragePooling2D\n",
    "\n",
    "x = tf.random.normal((1, 9, 9, 3))\n",
    "\n",
    "x = Conv2D(filters=8, kernel_size=3)(x)\n",
    "flatten = Flatten()(x)\n",
    "ga_pooling = GlobalAveragePooling2D()(x)\n",
    "\n",
    "flatten.shape, ga_pooling.shape"
   ]
  },
  {
   "cell_type": "code",
   "execution_count": 7,
   "metadata": {},
   "outputs": [
    {
     "data": {
      "text/plain": [
       "(torch.Size([1, 392]), torch.Size([1, 8]))"
      ]
     },
     "execution_count": 7,
     "metadata": {},
     "output_type": "execute_result"
    }
   ],
   "source": [
    "import torch\n",
    "from torch.nn import AvgPool2d, Flatten, Conv2d\n",
    "\n",
    "x = torch.randn(1,3,9,9)\n",
    "\n",
    "x = Conv2d(in_channels=3, out_channels=8, kernel_size=3)(x)\n",
    "\n",
    "pool = AvgPool2d(x.shape[2])\n",
    "ga_pooling = pool(x)\n",
    "ga_pooling = ga_pooling.squeeze(2).squeeze(2)\n",
    "flatten = Flatten()(x)\n",
    "\n",
    "flatten.shape, ga_pooling.shape"
   ]
  },
  {
   "cell_type": "markdown",
   "metadata": {},
   "source": [
    "## 4. Dropout layer"
   ]
  },
  {
   "cell_type": "code",
   "execution_count": 8,
   "metadata": {},
   "outputs": [
    {
     "name": "stdout",
     "output_type": "stream",
     "text": [
      "tf.Tensor(\n",
      "[[ 0.4322241  -1.5245256   0.35809284  0.16722403 -1.0219539   0.453504\n",
      "  -0.07137837  0.10918114 -0.95027626  1.3259474 ]], shape=(1, 10), dtype=float32)\n",
      "tf.Tensor(\n",
      "[[ 0.         -0.          0.          0.33444807 -2.0439079   0.\n",
      "  -0.14275675  0.21836229 -0.          2.6518948 ]], shape=(1, 10), dtype=float32)\n"
     ]
    }
   ],
   "source": [
    "import tensorflow as tf\n",
    "from tensorflow.keras.layers import Dropout\n",
    "\n",
    "x = tf.random.normal((1, 10))\n",
    "print(x)\n",
    "\n",
    "x = Dropout(rate=0.5)(x, training=True)\n",
    "print(x)"
   ]
  },
  {
   "cell_type": "code",
   "execution_count": 9,
   "metadata": {},
   "outputs": [
    {
     "name": "stdout",
     "output_type": "stream",
     "text": [
      "tensor([[ 0.0921, -0.0851,  1.6565,  1.0936, -1.0735,  0.6137, -0.9452, -0.8641,\n",
      "          0.4413,  0.0849]])\n",
      "tensor([[ 0.0000, -0.0000,  3.3130,  0.0000, -0.0000,  1.2274, -0.0000, -1.7282,\n",
      "          0.8826,  0.0000]])\n"
     ]
    }
   ],
   "source": [
    "import torch\n",
    "from torch.nn import Dropout\n",
    "\n",
    "x = torch.randn(1, 10)\n",
    "print(x)\n",
    "\n",
    "x = Dropout(p=0.5)(x)\n",
    "print(x)"
   ]
  },
  {
   "cell_type": "markdown",
   "metadata": {},
   "source": [
    "## 5. Activation function"
   ]
  },
  {
   "cell_type": "code",
   "execution_count": 10,
   "metadata": {},
   "outputs": [
    {
     "data": {
      "text/plain": [
       "(<tf.Tensor: shape=(1, 3, 3, 2), dtype=float32, numpy=\n",
       " array([[[[-0.5259792 ,  1.4969494 ],\n",
       "          [-0.68578094, -0.26149637],\n",
       "          [-0.34680468,  0.22880062]],\n",
       " \n",
       "         [[-0.44417223,  2.7272906 ],\n",
       "          [ 0.00824525, -0.3681308 ],\n",
       "          [-0.6194949 , -1.0875105 ]],\n",
       " \n",
       "         [[ 0.03927094,  0.8623146 ],\n",
       "          [-0.9791769 , -1.6151513 ],\n",
       "          [ 1.0513343 , -0.83749557]]]], dtype=float32)>,\n",
       " <tf.Tensor: shape=(1, 3, 3, 2), dtype=float32, numpy=\n",
       " array([[[[0.        , 1.4969494 ],\n",
       "          [0.        , 0.        ],\n",
       "          [0.        , 0.22880062]],\n",
       " \n",
       "         [[0.        , 2.7272906 ],\n",
       "          [0.00824525, 0.        ],\n",
       "          [0.        , 0.        ]],\n",
       " \n",
       "         [[0.03927094, 0.8623146 ],\n",
       "          [0.        , 0.        ],\n",
       "          [1.0513343 , 0.        ]]]], dtype=float32)>)"
      ]
     },
     "execution_count": 10,
     "metadata": {},
     "output_type": "execute_result"
    }
   ],
   "source": [
    "import tensorflow as tf\n",
    "from tensorflow.keras.layers import Conv2D, ReLU\n",
    "\n",
    "inp = tf.random.normal((1, 5, 5, 1))\n",
    "convolution = Conv2D(filters=2, kernel_size=3, strides=1, padding='valid')\n",
    "\n",
    "output1 = convolution(inp)\n",
    "relu = ReLU()\n",
    "output2 = relu(output1)\n",
    "output1, output2"
   ]
  },
  {
   "cell_type": "code",
   "execution_count": 11,
   "metadata": {},
   "outputs": [
    {
     "data": {
      "text/plain": [
       "(tensor([[[[-0.0433,  0.3498,  0.7987],\n",
       "           [ 0.5803,  1.1670,  0.2674],\n",
       "           [ 0.0553,  0.1158,  0.2285]],\n",
       " \n",
       "          [[ 0.8840,  0.2432,  0.7589],\n",
       "           [-1.0698, -0.9014,  0.3136],\n",
       "           [ 0.7321,  0.9454,  0.4087]]]], grad_fn=<ThnnConv2DBackward0>),\n",
       " tensor([[[[0.0000, 0.3498, 0.7987],\n",
       "           [0.5803, 1.1670, 0.2674],\n",
       "           [0.0553, 0.1158, 0.2285]],\n",
       " \n",
       "          [[0.8840, 0.2432, 0.7589],\n",
       "           [0.0000, 0.0000, 0.3136],\n",
       "           [0.7321, 0.9454, 0.4087]]]], grad_fn=<ReluBackward0>))"
      ]
     },
     "execution_count": 11,
     "metadata": {},
     "output_type": "execute_result"
    }
   ],
   "source": [
    "import torch\n",
    "from torch.nn import Conv2d, ReLU\n",
    "\n",
    "inp = torch.randn(1, 1, 5, 5)\n",
    "conv = Conv2d(in_channels=1, out_channels=2, kernel_size=3, stride=1, padding=0) \n",
    "output1 = conv(inp)\n",
    "\n",
    "relu = ReLU()\n",
    "output2 = relu(output1)\n",
    "output1, output2"
   ]
  },
  {
   "cell_type": "code",
   "execution_count": null,
   "metadata": {},
   "outputs": [],
   "source": []
  },
  {
   "cell_type": "code",
   "execution_count": null,
   "metadata": {},
   "outputs": [],
   "source": []
  }
 ],
 "metadata": {
  "kernelspec": {
   "display_name": "deep-learning-frameworks",
   "language": "python",
   "name": "deep-learning-frameworks"
  },
  "language_info": {
   "codemirror_mode": {
    "name": "ipython",
    "version": 3
   },
   "file_extension": ".py",
   "mimetype": "text/x-python",
   "name": "python",
   "nbconvert_exporter": "python",
   "pygments_lexer": "ipython3",
   "version": "3.9.13"
  }
 },
 "nbformat": 4,
 "nbformat_minor": 2
}
